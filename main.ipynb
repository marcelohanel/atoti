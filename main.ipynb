{
 "cells": [
  {
   "cell_type": "code",
   "execution_count": 1,
   "metadata": {},
   "outputs": [
    {
     "name": "stdout",
     "output_type": "stream",
     "text": [
      "Welcome to Atoti 0.8.14!\n",
      "\n",
      "By using this community edition, you agree with the license available at https://docs.atoti.io/latest/eula.html.\n",
      "Browse the official documentation at https://docs.atoti.io.\n",
      "Join the community at https://www.atoti.io/register.\n",
      "\n",
      "Atoti collects telemetry data, which is used to help understand how to improve the product.\n",
      "If you don't wish to send usage data, you can request a trial license at https://www.atoti.io/evaluation-license-request.\n",
      "\n",
      "You can hide this message by setting the `ATOTI_HIDE_EULA_MESSAGE` environment variable to True.\n"
     ]
    },
    {
     "data": {
      "application/vnd.atoti.link.v0+json": {
       "path": "",
       "sessionLocation": {
        "https": false,
        "port": 56161
       }
      },
      "text/markdown": [
       "http://localhost:56161\n",
       "\n",
       "_Note_: This is the session's local URL: it may not be reachable if Atoti is running on another machine."
      ],
      "text/plain": [
       "http://localhost:56161 (This is the session's local URL: it may not be reachable if Atoti is running on another machine.)"
      ]
     },
     "execution_count": 1,
     "metadata": {},
     "output_type": "execute_result"
    }
   ],
   "source": [
    "import pandas as pd\n",
    "import atoti as tt\n",
    "\n",
    "df = pd.read_csv(\"kpi013d.csv\")\n",
    "\n",
    "for coluna in df.columns:\n",
    "    if (coluna != \"vlrMovto\"): \n",
    "        df[coluna] = df[coluna].apply(lambda x: str(x))\n",
    "\n",
    "session = tt.Session()\n",
    "table = session.read_pandas(df, table_name=\"kpi013d\")\n",
    "\n",
    "#sales_table = session.read_csv(\n",
    "#    \"kpi013d.csv\", \n",
    "#    keys=[\"codIndicador\", \"codPerfil\", \"tipoMovimento\", \"dtMovto\"],\n",
    "#)\n",
    "\n",
    "cube = session.create_cube(table, mode=\"auto\")\n",
    "\n",
    "#m = cube.measures\n",
    "#del m[\"diaMovto.SUM\"]\n",
    "#del m[\"diaMovto.MEAN\"]\n",
    "\n",
    "#del m[\"mesMovto.SUM\"]\n",
    "#del m[\"mesMovto.MEAN\"]\n",
    "\n",
    "#del m[\"anoMovto.SUM\"]\n",
    "#del m[\"anoMovto.MEAN\"]\n",
    "\n",
    "#h = cube.hierarchies\n",
    "#h[\"Mercadoria\"] = {\"Mercadoria\": table[\"Mercadoria\"]}\n",
    "#h[\"mesMovto\"] = {\"mesMovto\": table[\"mesMovto\"]}\n",
    "\n",
    "session.widget\n",
    "session.link\n"
   ]
  }
 ],
 "metadata": {
  "kernelspec": {
   "display_name": ".venv",
   "language": "python",
   "name": "python3"
  },
  "language_info": {
   "codemirror_mode": {
    "name": "ipython",
    "version": 3
   },
   "file_extension": ".py",
   "mimetype": "text/x-python",
   "name": "python",
   "nbconvert_exporter": "python",
   "pygments_lexer": "ipython3",
   "version": "3.12.3"
  }
 },
 "nbformat": 4,
 "nbformat_minor": 2
}
